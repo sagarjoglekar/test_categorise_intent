{
 "cells": [
  {
   "cell_type": "code",
   "execution_count": 9,
   "id": "83a65253",
   "metadata": {},
   "outputs": [],
   "source": [
    "import joblib\n",
    "import sys"
   ]
  },
  {
   "cell_type": "code",
   "execution_count": 10,
   "id": "9c76e9a5",
   "metadata": {},
   "outputs": [],
   "source": [
    "sys.path.append(\"..\")"
   ]
  },
  {
   "cell_type": "code",
   "execution_count": 11,
   "id": "5541b627",
   "metadata": {},
   "outputs": [],
   "source": [
    "tfIdf_model = joblib.load(\"../models/TfIdfClassifier.joblib\")"
   ]
  },
  {
   "cell_type": "code",
   "execution_count": 23,
   "id": "13c9a399",
   "metadata": {},
   "outputs": [
    {
     "data": {
      "text/plain": [
       "array([750])"
      ]
     },
     "execution_count": 23,
     "metadata": {},
     "output_type": "execute_result"
    }
   ],
   "source": [
    "tfIdf_model.predict([\"I want to shop for a TV\"])"
   ]
  },
  {
   "cell_type": "code",
   "execution_count": 13,
   "id": "f6abff92",
   "metadata": {},
   "outputs": [
    {
     "data": {
      "text/plain": [
       "'1.1.1'"
      ]
     },
     "execution_count": 13,
     "metadata": {},
     "output_type": "execute_result"
    }
   ],
   "source": [
    "joblib.__version__"
   ]
  },
  {
   "cell_type": "code",
   "execution_count": 16,
   "id": "8b380780",
   "metadata": {},
   "outputs": [],
   "source": [
    "from src.modelling.spacyModel import IntentClassifierSpacy"
   ]
  },
  {
   "cell_type": "code",
   "execution_count": 18,
   "id": "dbeadbdd",
   "metadata": {},
   "outputs": [],
   "source": [
    "spacy_model = joblib.load(\"../models/spacy_classifier.joblib\")"
   ]
  },
  {
   "cell_type": "code",
   "execution_count": 24,
   "id": "499c0c91",
   "metadata": {},
   "outputs": [
    {
     "data": {
      "text/plain": [
       "1169"
      ]
     },
     "execution_count": 24,
     "metadata": {},
     "output_type": "execute_result"
    }
   ],
   "source": [
    "spacy_model.predict_one(\"I want to shop for a TV\")[0]"
   ]
  },
  {
   "cell_type": "code",
   "execution_count": null,
   "id": "f3b088e4",
   "metadata": {},
   "outputs": [],
   "source": []
  }
 ],
 "metadata": {
  "kernelspec": {
   "display_name": "Python 3 (ipykernel)",
   "language": "python",
   "name": "python3"
  },
  "language_info": {
   "codemirror_mode": {
    "name": "ipython",
    "version": 3
   },
   "file_extension": ".py",
   "mimetype": "text/x-python",
   "name": "python",
   "nbconvert_exporter": "python",
   "pygments_lexer": "ipython3",
   "version": "3.8.16"
  }
 },
 "nbformat": 4,
 "nbformat_minor": 5
}
