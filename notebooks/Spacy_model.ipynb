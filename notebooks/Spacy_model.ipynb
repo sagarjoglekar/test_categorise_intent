{
 "cells": [
  {
   "cell_type": "code",
   "execution_count": 1,
   "id": "8c74c54e",
   "metadata": {},
   "outputs": [],
   "source": [
    "from sklearn.feature_extraction.text import TfidfVectorizer\n",
    "from sklearn.linear_model import LogisticRegression\n",
    "from sklearn.neural_network import MLPClassifier\n",
    "from sklearn.pipeline import Pipeline\n",
    "from sklearn.model_selection import GridSearchCV, train_test_split\n",
    "from sklearn.metrics import classification_report, precision_recall_fscore_support, confusion_matrix\n",
    "import pandas as pd\n",
    "import seaborn as sns\n",
    "from tqdm import tqdm\n",
    "import matplotlib.pyplot as plt\n",
    "import joblib\n",
    "import spacy\n",
    "import numpy as np\n",
    "import joblib"
   ]
  },
  {
   "cell_type": "code",
   "execution_count": 2,
   "id": "244e2a7c",
   "metadata": {},
   "outputs": [
    {
     "name": "stdout",
     "output_type": "stream",
     "text": [
      "Collecting en-core-web-md==3.5.0\n",
      "  Downloading https://github.com/explosion/spacy-models/releases/download/en_core_web_md-3.5.0/en_core_web_md-3.5.0-py3-none-any.whl (42.8 MB)\n",
      "\u001b[2K     \u001b[90m━━━━━━━━━━━━━━━━━━━━━━━━━━━━━━━━━━━━━━━━\u001b[0m \u001b[32m42.8/42.8 MB\u001b[0m \u001b[31m4.6 MB/s\u001b[0m eta \u001b[36m0:00:00\u001b[0m00:01\u001b[0m00:01\u001b[0m\n",
      "\u001b[?25hRequirement already satisfied: spacy<3.6.0,>=3.5.0 in /opt/anaconda3/envs/adthena/lib/python3.8/site-packages (from en-core-web-md==3.5.0) (3.5.3)\n",
      "Requirement already satisfied: setuptools in /opt/anaconda3/envs/adthena/lib/python3.8/site-packages (from spacy<3.6.0,>=3.5.0->en-core-web-md==3.5.0) (66.0.0)\n",
      "Requirement already satisfied: numpy>=1.15.0 in /opt/anaconda3/envs/adthena/lib/python3.8/site-packages (from spacy<3.6.0,>=3.5.0->en-core-web-md==3.5.0) (1.23.5)\n",
      "Requirement already satisfied: pydantic!=1.8,!=1.8.1,<1.11.0,>=1.7.4 in /opt/anaconda3/envs/adthena/lib/python3.8/site-packages (from spacy<3.6.0,>=3.5.0->en-core-web-md==3.5.0) (1.10.2)\n",
      "Requirement already satisfied: preshed<3.1.0,>=3.0.2 in /opt/anaconda3/envs/adthena/lib/python3.8/site-packages (from spacy<3.6.0,>=3.5.0->en-core-web-md==3.5.0) (3.0.6)\n",
      "Requirement already satisfied: packaging>=20.0 in /opt/anaconda3/envs/adthena/lib/python3.8/site-packages (from spacy<3.6.0,>=3.5.0->en-core-web-md==3.5.0) (23.0)\n",
      "Requirement already satisfied: langcodes<4.0.0,>=3.2.0 in /opt/anaconda3/envs/adthena/lib/python3.8/site-packages (from spacy<3.6.0,>=3.5.0->en-core-web-md==3.5.0) (3.3.0)\n",
      "Requirement already satisfied: jinja2 in /opt/anaconda3/envs/adthena/lib/python3.8/site-packages (from spacy<3.6.0,>=3.5.0->en-core-web-md==3.5.0) (3.1.2)\n",
      "Requirement already satisfied: pathy>=0.10.0 in /opt/anaconda3/envs/adthena/lib/python3.8/site-packages (from spacy<3.6.0,>=3.5.0->en-core-web-md==3.5.0) (0.10.1)\n",
      "Requirement already satisfied: typer<0.8.0,>=0.3.0 in /opt/anaconda3/envs/adthena/lib/python3.8/site-packages (from spacy<3.6.0,>=3.5.0->en-core-web-md==3.5.0) (0.4.1)\n",
      "Requirement already satisfied: catalogue<2.1.0,>=2.0.6 in /opt/anaconda3/envs/adthena/lib/python3.8/site-packages (from spacy<3.6.0,>=3.5.0->en-core-web-md==3.5.0) (2.0.7)\n",
      "Requirement already satisfied: spacy-loggers<2.0.0,>=1.0.0 in /opt/anaconda3/envs/adthena/lib/python3.8/site-packages (from spacy<3.6.0,>=3.5.0->en-core-web-md==3.5.0) (1.0.4)\n",
      "Requirement already satisfied: srsly<3.0.0,>=2.4.3 in /opt/anaconda3/envs/adthena/lib/python3.8/site-packages (from spacy<3.6.0,>=3.5.0->en-core-web-md==3.5.0) (2.4.6)\n",
      "Requirement already satisfied: requests<3.0.0,>=2.13.0 in /opt/anaconda3/envs/adthena/lib/python3.8/site-packages (from spacy<3.6.0,>=3.5.0->en-core-web-md==3.5.0) (2.29.0)\n",
      "Requirement already satisfied: smart-open<7.0.0,>=5.2.1 in /opt/anaconda3/envs/adthena/lib/python3.8/site-packages (from spacy<3.6.0,>=3.5.0->en-core-web-md==3.5.0) (5.2.1)\n",
      "Requirement already satisfied: wasabi<1.2.0,>=0.9.1 in /opt/anaconda3/envs/adthena/lib/python3.8/site-packages (from spacy<3.6.0,>=3.5.0->en-core-web-md==3.5.0) (0.9.1)\n",
      "Requirement already satisfied: murmurhash<1.1.0,>=0.28.0 in /opt/anaconda3/envs/adthena/lib/python3.8/site-packages (from spacy<3.6.0,>=3.5.0->en-core-web-md==3.5.0) (1.0.7)\n",
      "Requirement already satisfied: cymem<2.1.0,>=2.0.2 in /opt/anaconda3/envs/adthena/lib/python3.8/site-packages (from spacy<3.6.0,>=3.5.0->en-core-web-md==3.5.0) (2.0.6)\n",
      "Requirement already satisfied: thinc<8.2.0,>=8.1.8 in /opt/anaconda3/envs/adthena/lib/python3.8/site-packages (from spacy<3.6.0,>=3.5.0->en-core-web-md==3.5.0) (8.1.10)\n",
      "Requirement already satisfied: spacy-legacy<3.1.0,>=3.0.11 in /opt/anaconda3/envs/adthena/lib/python3.8/site-packages (from spacy<3.6.0,>=3.5.0->en-core-web-md==3.5.0) (3.0.12)\n",
      "Requirement already satisfied: tqdm<5.0.0,>=4.38.0 in /opt/anaconda3/envs/adthena/lib/python3.8/site-packages (from spacy<3.6.0,>=3.5.0->en-core-web-md==3.5.0) (4.65.0)\n",
      "Requirement already satisfied: typing-extensions>=4.1.0 in /opt/anaconda3/envs/adthena/lib/python3.8/site-packages (from pydantic!=1.8,!=1.8.1,<1.11.0,>=1.7.4->spacy<3.6.0,>=3.5.0->en-core-web-md==3.5.0) (4.5.0)\n",
      "Requirement already satisfied: urllib3<1.27,>=1.21.1 in /opt/anaconda3/envs/adthena/lib/python3.8/site-packages (from requests<3.0.0,>=2.13.0->spacy<3.6.0,>=3.5.0->en-core-web-md==3.5.0) (1.26.15)\n",
      "Requirement already satisfied: charset-normalizer<4,>=2 in /opt/anaconda3/envs/adthena/lib/python3.8/site-packages (from requests<3.0.0,>=2.13.0->spacy<3.6.0,>=3.5.0->en-core-web-md==3.5.0) (2.0.4)\n",
      "Requirement already satisfied: certifi>=2017.4.17 in /opt/anaconda3/envs/adthena/lib/python3.8/site-packages (from requests<3.0.0,>=2.13.0->spacy<3.6.0,>=3.5.0->en-core-web-md==3.5.0) (2023.5.7)\n",
      "Requirement already satisfied: idna<4,>=2.5 in /opt/anaconda3/envs/adthena/lib/python3.8/site-packages (from requests<3.0.0,>=2.13.0->spacy<3.6.0,>=3.5.0->en-core-web-md==3.5.0) (3.4)\n",
      "Requirement already satisfied: blis<0.8.0,>=0.7.8 in /opt/anaconda3/envs/adthena/lib/python3.8/site-packages (from thinc<8.2.0,>=8.1.8->spacy<3.6.0,>=3.5.0->en-core-web-md==3.5.0) (0.7.9)\n",
      "Requirement already satisfied: confection<1.0.0,>=0.0.1 in /opt/anaconda3/envs/adthena/lib/python3.8/site-packages (from thinc<8.2.0,>=8.1.8->spacy<3.6.0,>=3.5.0->en-core-web-md==3.5.0) (0.0.4)\n",
      "Requirement already satisfied: click<9.0.0,>=7.1.1 in /opt/anaconda3/envs/adthena/lib/python3.8/site-packages (from typer<0.8.0,>=0.3.0->spacy<3.6.0,>=3.5.0->en-core-web-md==3.5.0) (8.0.4)\n",
      "Requirement already satisfied: MarkupSafe>=2.0 in /opt/anaconda3/envs/adthena/lib/python3.8/site-packages (from jinja2->spacy<3.6.0,>=3.5.0->en-core-web-md==3.5.0) (2.1.1)\n",
      "\u001b[38;5;2m✔ Download and installation successful\u001b[0m\n",
      "You can now load the package via spacy.load('en_core_web_md')\n"
     ]
    }
   ],
   "source": [
    "!python -m spacy download en_core_web_md"
   ]
  },
  {
   "cell_type": "markdown",
   "id": "152a9b30",
   "metadata": {},
   "source": [
    "#### Do some elementary EDA on the data"
   ]
  },
  {
   "cell_type": "code",
   "execution_count": 3,
   "id": "e1a6fe9a",
   "metadata": {},
   "outputs": [],
   "source": [
    "data = pd.read_csv(\"../data/train_data.csv\", header=None)"
   ]
  },
  {
   "cell_type": "code",
   "execution_count": 4,
   "id": "d370ce9d",
   "metadata": {},
   "outputs": [
    {
     "data": {
      "text/html": [
       "<div>\n",
       "<style scoped>\n",
       "    .dataframe tbody tr th:only-of-type {\n",
       "        vertical-align: middle;\n",
       "    }\n",
       "\n",
       "    .dataframe tbody tr th {\n",
       "        vertical-align: top;\n",
       "    }\n",
       "\n",
       "    .dataframe thead th {\n",
       "        text-align: right;\n",
       "    }\n",
       "</style>\n",
       "<table border=\"1\" class=\"dataframe\">\n",
       "  <thead>\n",
       "    <tr style=\"text-align: right;\">\n",
       "      <th></th>\n",
       "      <th>0</th>\n",
       "      <th>1</th>\n",
       "    </tr>\n",
       "  </thead>\n",
       "  <tbody>\n",
       "    <tr>\n",
       "      <th>0</th>\n",
       "      <td>yew hedge</td>\n",
       "      <td>1221</td>\n",
       "    </tr>\n",
       "    <tr>\n",
       "      <th>1</th>\n",
       "      <td>fire detection shop</td>\n",
       "      <td>19</td>\n",
       "    </tr>\n",
       "    <tr>\n",
       "      <th>2</th>\n",
       "      <td>cheap couch roll</td>\n",
       "      <td>398</td>\n",
       "    </tr>\n",
       "    <tr>\n",
       "      <th>3</th>\n",
       "      <td>extra watermelon gum</td>\n",
       "      <td>1108</td>\n",
       "    </tr>\n",
       "    <tr>\n",
       "      <th>4</th>\n",
       "      <td>used generators for sale uk</td>\n",
       "      <td>213</td>\n",
       "    </tr>\n",
       "  </tbody>\n",
       "</table>\n",
       "</div>"
      ],
      "text/plain": [
       "                             0     1\n",
       "0                    yew hedge  1221\n",
       "1          fire detection shop    19\n",
       "2             cheap couch roll   398\n",
       "3         extra watermelon gum  1108\n",
       "4  used generators for sale uk   213"
      ]
     },
     "execution_count": 4,
     "metadata": {},
     "output_type": "execute_result"
    }
   ],
   "source": [
    "data.head()"
   ]
  },
  {
   "cell_type": "code",
   "execution_count": 7,
   "id": "176fbadf",
   "metadata": {},
   "outputs": [
    {
     "data": {
      "text/plain": [
       "<Axes: ylabel='Count'>"
      ]
     },
     "execution_count": 7,
     "metadata": {},
     "output_type": "execute_result"
    },
    {
     "data": {
      "image/png": "[encoded data removed]",
      "text/plain": [
       "<Figure size 640x480 with 1 Axes>"
      ]
     },
     "metadata": {},
     "output_type": "display_data"
    }
   ],
   "source": [
    "sns.histplot(data.groupby(1).count())"
   ]
  },
  {
   "cell_type": "code",
   "execution_count": 8,
   "id": "42e77f23",
   "metadata": {},
   "outputs": [
    {
     "data": {
      "text/html": [
       "<div>\n",
       "<style scoped>\n",
       "    .dataframe tbody tr th:only-of-type {\n",
       "        vertical-align: middle;\n",
       "    }\n",
       "\n",
       "    .dataframe tbody tr th {\n",
       "        vertical-align: top;\n",
       "    }\n",
       "\n",
       "    .dataframe thead th {\n",
       "        text-align: right;\n",
       "    }\n",
       "</style>\n",
       "<table border=\"1\" class=\"dataframe\">\n",
       "  <thead>\n",
       "    <tr style=\"text-align: right;\">\n",
       "      <th></th>\n",
       "      <th>0</th>\n",
       "      <th>1</th>\n",
       "    </tr>\n",
       "  </thead>\n",
       "  <tbody>\n",
       "    <tr>\n",
       "      <th>0</th>\n",
       "      <td>yew hedge</td>\n",
       "      <td>1221</td>\n",
       "    </tr>\n",
       "    <tr>\n",
       "      <th>8</th>\n",
       "      <td>tyr fusion</td>\n",
       "      <td>158</td>\n",
       "    </tr>\n",
       "    <tr>\n",
       "      <th>13</th>\n",
       "      <td>car rental dublin airport</td>\n",
       "      <td>1069</td>\n",
       "    </tr>\n",
       "    <tr>\n",
       "      <th>71</th>\n",
       "      <td>childrens goggles</td>\n",
       "      <td>309</td>\n",
       "    </tr>\n",
       "    <tr>\n",
       "      <th>80</th>\n",
       "      <td>rfid card protector</td>\n",
       "      <td>1211</td>\n",
       "    </tr>\n",
       "    <tr>\n",
       "      <th>...</th>\n",
       "      <td>...</td>\n",
       "      <td>...</td>\n",
       "    </tr>\n",
       "    <tr>\n",
       "      <th>606598</th>\n",
       "      <td>wilma pot system</td>\n",
       "      <td>1302</td>\n",
       "    </tr>\n",
       "    <tr>\n",
       "      <th>606614</th>\n",
       "      <td>edea overture figure skates</td>\n",
       "      <td>788</td>\n",
       "    </tr>\n",
       "    <tr>\n",
       "      <th>606654</th>\n",
       "      <td>art and craft fairs scotland</td>\n",
       "      <td>1395</td>\n",
       "    </tr>\n",
       "    <tr>\n",
       "      <th>606750</th>\n",
       "      <td>human testing uk</td>\n",
       "      <td>1034</td>\n",
       "    </tr>\n",
       "    <tr>\n",
       "      <th>606817</th>\n",
       "      <td>metal detectors for sale</td>\n",
       "      <td>187</td>\n",
       "    </tr>\n",
       "  </tbody>\n",
       "</table>\n",
       "<p>26037 rows × 2 columns</p>\n",
       "</div>"
      ],
      "text/plain": [
       "                                   0     1\n",
       "0                          yew hedge  1221\n",
       "8                         tyr fusion   158\n",
       "13         car rental dublin airport  1069\n",
       "71                 childrens goggles   309\n",
       "80               rfid card protector  1211\n",
       "...                              ...   ...\n",
       "606598              wilma pot system  1302\n",
       "606614   edea overture figure skates   788\n",
       "606654  art and craft fairs scotland  1395\n",
       "606750              human testing uk  1034\n",
       "606817      metal detectors for sale   187\n",
       "\n",
       "[26037 rows x 2 columns]"
      ]
     },
     "execution_count": 8,
     "metadata": {},
     "output_type": "execute_result"
    }
   ],
   "source": [
    "data.groupby(1).filter(lambda x: len(x) <250)"
   ]
  },
  {
   "cell_type": "code",
   "execution_count": 10,
   "id": "87100800",
   "metadata": {},
   "outputs": [],
   "source": [
    "train, test = train_test_split(data, test_size=0.2, random_state=42)"
   ]
  },
  {
   "cell_type": "code",
   "execution_count": 11,
   "id": "50eec3e1",
   "metadata": {},
   "outputs": [],
   "source": [
    "classes = data[1].unique().tolist()"
   ]
  },
  {
   "cell_type": "code",
   "execution_count": 12,
   "id": "fcb81b33",
   "metadata": {},
   "outputs": [],
   "source": [
    "class IntentClassifierSpacy:\n",
    "    def __init__(self , intents , best_params = None):\n",
    "        self.nlp = spacy.load('en_core_web_md')\n",
    "        if not best_params:\n",
    "            self.mlp = MLPClassifier(random_state=42, early_stopping=True)\n",
    "        else:\n",
    "            self.mlp = MLPClassifier(**best_params,random_state=42, early_stopping=True)\n",
    "        self.intents = intents\n",
    "        self.intent_to_label = {}\n",
    "        self.intent_to_label = {intent: idx for idx, intent in enumerate(self.intents)}\n",
    "    \n",
    "    \n",
    "    def fit(self, data, text_field , intent_field):\n",
    "        data[\"labels\"] = data[intent_field].apply(lambda x : self.intent_to_label[x])\n",
    "        \n",
    "        # Create Spacy embeddings\n",
    "        data[\"spacy_embeddings\"] = data[text_field].apply(lambda x : self.nlp(x).vector)\n",
    "        \n",
    "        # Train the MLP classifier\n",
    "        self.mlp.fit(np.vstack(data['spacy_embeddings']), data['labels'])\n",
    "    \n",
    "    def predict(self, data, text_field):\n",
    "        data[\"spacy_embeddings\"] = data[text_field].apply(lambda x : self.nlp(x).vector)\n",
    "        \n",
    "        # Make predictions\n",
    "        predicted_labels = self.mlp.predict(np.vstack(data['spacy_embeddings']))\n",
    "        predicted_proba = self.mlp.predict_proba(np.vstack(data['spacy_embeddings']))\n",
    "        predicted_intents = [self.intents[label] for label in predicted_labels]\n",
    "        return predicted_labels , predicted_proba , predicted_intents\n",
    "\n",
    "    def predict_one(self, text):\n",
    "        embedding = self.nlp(text).vector.reshape(1, -1)\n",
    "        predicted_label = self.mlp.predict(embedding)[0]\n",
    "        predicted_proba = self.mlp.predict_proba(embedding)\n",
    "        predicted_intent = self.intents[predicted_label]\n",
    "        return predicted_label , predicted_proba , predicted_intent\n",
    "        \n",
    "    def evaluate(self, data, text_field , intent_field):\n",
    "        # Convert intents to numerical labels\n",
    "        data[\"labels\"] = data[intent_field].apply(lambda x : self.intent_to_label[x])\n",
    "        \n",
    "        \n",
    "        # Make predictions\n",
    "        pred , _proba ,_intent = self.predict(data , text_field)\n",
    "        \n",
    "        # Evaluate the model\n",
    "        return classification_report(data[\"labels\"], pred, target_names=self.intents  , output_dict=True)\n",
    "    \n",
    "    def tune_hyperparameters(self, data, param_grid, text_field, intent_field):\n",
    "        # Convert intents to numerical labels\n",
    "        self.intents = data[intent_field].unique().tolist()\n",
    "        self.intent_to_label = {intent: idx for idx, intent in enumerate(self.intents)}\n",
    "        \n",
    "        # Convert intents to numerical labels\n",
    "        data[\"labels\"] = data[intent_field].apply(lambda x : self.intent_to_label[x])\n",
    "        data[\"spacy_embeddings\"] = data[text_field].apply(lambda x : self.nlp(x).vector)\n",
    "        \n",
    "        # Perform grid search\n",
    "        grid_search = GridSearchCV(self.mlp, param_grid, cv=3, n_jobs = -1 , verbose = 3)\n",
    "        grid_search.fit(np.vstack(data['spacy_embeddings']), data['labels'])\n",
    "        \n",
    "        # Update the MLP classifier with the best parameters\n",
    "        self.mlp = grid_search.best_estimator_\n",
    "        \n",
    "        # Print the best hyperparameters\n",
    "        print(\"Best hyperparameters:\", grid_search.best_params_)\n",
    "        print(\"Best accuracy:\", grid_search.best_score_)"
   ]
  },
  {
   "cell_type": "code",
   "execution_count": null,
   "id": "5019f2bd",
   "metadata": {},
   "outputs": [],
   "source": [
    "# Initialize the classifier\n",
    "classifier = IntentClassifierSpacy(classes)"
   ]
  },
  {
   "cell_type": "code",
   "execution_count": null,
   "id": "05123589",
   "metadata": {},
   "outputs": [],
   "source": [
    "# Define the parameter grid for hyperparameter tuning\n",
    "parameter_space = {\n",
    "    'hidden_layer_sizes': [(256, 128, 64), (128,100, 64)],\n",
    "    'activation': ['tanh','relu'],\n",
    "    'solver': ['adam'],\n",
    "    'max_iter' : [100],\n",
    "    'alpha': [0.5 , 0.05],\n",
    "    'learning_rate': ['constant','adaptive'],\n",
    "}"
   ]
  },
  {
   "cell_type": "code",
   "execution_count": null,
   "id": "29be2462",
   "metadata": {},
   "outputs": [],
   "source": [
    "# Tune hyperparameters using grid search\n",
    "classifier.tune_hyperparameters(train, parameter_space , text_field =0, intent_field = 1)"
   ]
  },
  {
   "cell_type": "code",
   "execution_count": 13,
   "id": "1a437e7e",
   "metadata": {},
   "outputs": [],
   "source": [
    "best_params = {'activation': 'relu', 'alpha': 0.05, 'hidden_layer_sizes': (256, 128, 64), 'learning_rate': 'constant', 'max_iter': 100, 'solver': 'adam'}"
   ]
  },
  {
   "cell_type": "code",
   "execution_count": 14,
   "id": "bec9cb3a",
   "metadata": {},
   "outputs": [],
   "source": [
    "final_model = IntentClassifierSpacy(classes , best_params = best_params)"
   ]
  },
  {
   "cell_type": "code",
   "execution_count": null,
   "id": "3e81a115",
   "metadata": {},
   "outputs": [],
   "source": [
    "final_model.fit(train , 0 , 1)"
   ]
  },
  {
   "cell_type": "code",
   "execution_count": null,
   "id": "2219e0c3",
   "metadata": {},
   "outputs": [],
   "source": [
    "test['predicted_intents'] = final_model.predict(test[0])"
   ]
  },
  {
   "cell_type": "code",
   "execution_count": null,
   "id": "81a7d5de",
   "metadata": {},
   "outputs": [],
   "source": [
    "precision_recall_fscore_support(test[1] , test['predicted_intents'] , average='weighted')"
   ]
  },
  {
   "cell_type": "code",
   "execution_count": 14,
   "id": "d1d23e08",
   "metadata": {},
   "outputs": [
    {
     "data": {
      "text/plain": [
       "['../models/spacy_classifier.joblib']"
      ]
     },
     "execution_count": 14,
     "metadata": {},
     "output_type": "execute_result"
    }
   ],
   "source": [
    "joblib.dump(final_model , \"../models/spacy_classifier.joblib\",compress = 1)"
   ]
  },
  {
   "cell_type": "code",
   "execution_count": null,
   "id": "be234fe7",
   "metadata": {},
   "outputs": [],
   "source": []
  }
 ],
 "metadata": {
  "kernelspec": {
   "display_name": "Python 3 (ipykernel)",
   "language": "python",
   "name": "python3"
  },
  "language_info": {
   "codemirror_mode": {
    "name": "ipython",
    "version": 3
   },
   "file_extension": ".py",
   "mimetype": "text/x-python",
   "name": "python",
   "nbconvert_exporter": "python",
   "pygments_lexer": "ipython3",
   "version": "3.8.16"
  }
 },
 "nbformat": 4,
 "nbformat_minor": 5
}
