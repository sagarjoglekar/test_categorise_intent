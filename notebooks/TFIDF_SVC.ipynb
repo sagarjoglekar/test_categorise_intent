{
 "cells": [
  {
   "cell_type": "code",
   "execution_count": 50,
   "id": "dfed9104",
   "metadata": {},
   "outputs": [],
   "source": [
    "import pandas as pd \n",
    "from sklearn.feature_extraction.text import TfidfVectorizer\n",
    "from sklearn.decomposition import TruncatedSVD\n",
    "from sklearn.pipeline import Pipeline\n",
    "import numpy as np\n",
    "from sklearn.model_selection import train_test_split, GridSearchCV\n",
    "from sklearn.metrics import classification_report, precision_recall_fscore_support, confusion_matrix\n",
    "from sklearn.linear_model import LogisticRegression\n",
    "from sklearn.svm import LinearSVC\n",
    "from sklearn.metrics import classification_report\n",
    "import matplotlib.pyplot as plt\n",
    "import joblib\n",
    "import seaborn as sns"
   ]
  },
  {
   "cell_type": "code",
   "execution_count": 9,
   "id": "6f40722b",
   "metadata": {},
   "outputs": [],
   "source": [
    "data = pd.read_csv(\"../data/train_data.csv\", header = None)"
   ]
  },
  {
   "cell_type": "code",
   "execution_count": 10,
   "id": "2f84b164",
   "metadata": {},
   "outputs": [
    {
     "data": {
      "text/html": [
       "<div>\n",
       "<style scoped>\n",
       "    .dataframe tbody tr th:only-of-type {\n",
       "        vertical-align: middle;\n",
       "    }\n",
       "\n",
       "    .dataframe tbody tr th {\n",
       "        vertical-align: top;\n",
       "    }\n",
       "\n",
       "    .dataframe thead th {\n",
       "        text-align: right;\n",
       "    }\n",
       "</style>\n",
       "<table border=\"1\" class=\"dataframe\">\n",
       "  <thead>\n",
       "    <tr style=\"text-align: right;\">\n",
       "      <th></th>\n",
       "      <th>0</th>\n",
       "      <th>1</th>\n",
       "    </tr>\n",
       "  </thead>\n",
       "  <tbody>\n",
       "    <tr>\n",
       "      <th>0</th>\n",
       "      <td>yew hedge</td>\n",
       "      <td>1221</td>\n",
       "    </tr>\n",
       "    <tr>\n",
       "      <th>1</th>\n",
       "      <td>fire detection shop</td>\n",
       "      <td>19</td>\n",
       "    </tr>\n",
       "    <tr>\n",
       "      <th>2</th>\n",
       "      <td>cheap couch roll</td>\n",
       "      <td>398</td>\n",
       "    </tr>\n",
       "    <tr>\n",
       "      <th>3</th>\n",
       "      <td>extra watermelon gum</td>\n",
       "      <td>1108</td>\n",
       "    </tr>\n",
       "    <tr>\n",
       "      <th>4</th>\n",
       "      <td>used generators for sale uk</td>\n",
       "      <td>213</td>\n",
       "    </tr>\n",
       "  </tbody>\n",
       "</table>\n",
       "</div>"
      ],
      "text/plain": [
       "                             0     1\n",
       "0                    yew hedge  1221\n",
       "1          fire detection shop    19\n",
       "2             cheap couch roll   398\n",
       "3         extra watermelon gum  1108\n",
       "4  used generators for sale uk   213"
      ]
     },
     "execution_count": 10,
     "metadata": {},
     "output_type": "execute_result"
    }
   ],
   "source": [
    "data.head()"
   ]
  },
  {
   "cell_type": "code",
   "execution_count": 30,
   "id": "b85b56fe",
   "metadata": {},
   "outputs": [],
   "source": [
    "data_sample = data.sample(frac=0.05)"
   ]
  },
  {
   "cell_type": "code",
   "execution_count": 31,
   "id": "52bbe741",
   "metadata": {},
   "outputs": [],
   "source": [
    "# Create the pipeline\n",
    "pipeline = Pipeline([\n",
    "    ('tfidf', TfidfVectorizer()),\n",
    "    ('clf', LinearSVC(class_weight='balanced')),\n",
    "])"
   ]
  },
  {
   "cell_type": "code",
   "execution_count": 32,
   "id": "94dea95b",
   "metadata": {},
   "outputs": [],
   "source": [
    "# Define the hyperparameters for grid search\n",
    "parameters = {\n",
    "    'tfidf__max_features': [500, 1000, 10000],  # Maximum number of features\n",
    "    'tfidf__ngram_range': [(1, 1), (1, 2)],  # Unigrams or bigrams\n",
    "    'clf__C': [0.1, 1, 10]  # Regularization parameter\n",
    "}"
   ]
  },
  {
   "cell_type": "code",
   "execution_count": 33,
   "id": "56cac7a8",
   "metadata": {},
   "outputs": [
    {
     "name": "stdout",
     "output_type": "stream",
     "text": [
      "Fitting 3 folds for each of 18 candidates, totalling 54 fits\n"
     ]
    },
    {
     "name": "stderr",
     "output_type": "stream",
     "text": [
      "/opt/anaconda3/envs/adthena/lib/python3.8/site-packages/sklearn/model_selection/_split.py:700: UserWarning: The least populated class in y has only 1 members, which is less than n_splits=3.\n",
      "  warnings.warn(\n"
     ]
    },
    {
     "data": {
      "text/html": [
       "<style>#sk-container-id-2 {color: black;background-color: white;}#sk-container-id-2 pre{padding: 0;}#sk-container-id-2 div.sk-toggleable {background-color: white;}#sk-container-id-2 label.sk-toggleable__label {cursor: pointer;display: block;width: 100%;margin-bottom: 0;padding: 0.3em;box-sizing: border-box;text-align: center;}#sk-container-id-2 label.sk-toggleable__label-arrow:before {content: \"▸\";float: left;margin-right: 0.25em;color: #696969;}#sk-container-id-2 label.sk-toggleable__label-arrow:hover:before {color: black;}#sk-container-id-2 div.sk-estimator:hover label.sk-toggleable__label-arrow:before {color: black;}#sk-container-id-2 div.sk-toggleable__content {max-height: 0;max-width: 0;overflow: hidden;text-align: left;background-color: #f0f8ff;}#sk-container-id-2 div.sk-toggleable__content pre {margin: 0.2em;color: black;border-radius: 0.25em;background-color: #f0f8ff;}#sk-container-id-2 input.sk-toggleable__control:checked~div.sk-toggleable__content {max-height: 200px;max-width: 100%;overflow: auto;}#sk-container-id-2 input.sk-toggleable__control:checked~label.sk-toggleable__label-arrow:before {content: \"▾\";}#sk-container-id-2 div.sk-estimator input.sk-toggleable__control:checked~label.sk-toggleable__label {background-color: #d4ebff;}#sk-container-id-2 div.sk-label input.sk-toggleable__control:checked~label.sk-toggleable__label {background-color: #d4ebff;}#sk-container-id-2 input.sk-hidden--visually {border: 0;clip: rect(1px 1px 1px 1px);clip: rect(1px, 1px, 1px, 1px);height: 1px;margin: -1px;overflow: hidden;padding: 0;position: absolute;width: 1px;}#sk-container-id-2 div.sk-estimator {font-family: monospace;background-color: #f0f8ff;border: 1px dotted black;border-radius: 0.25em;box-sizing: border-box;margin-bottom: 0.5em;}#sk-container-id-2 div.sk-estimator:hover {background-color: #d4ebff;}#sk-container-id-2 div.sk-parallel-item::after {content: \"\";width: 100%;border-bottom: 1px solid gray;flex-grow: 1;}#sk-container-id-2 div.sk-label:hover label.sk-toggleable__label {background-color: #d4ebff;}#sk-container-id-2 div.sk-serial::before {content: \"\";position: absolute;border-left: 1px solid gray;box-sizing: border-box;top: 0;bottom: 0;left: 50%;z-index: 0;}#sk-container-id-2 div.sk-serial {display: flex;flex-direction: column;align-items: center;background-color: white;padding-right: 0.2em;padding-left: 0.2em;position: relative;}#sk-container-id-2 div.sk-item {position: relative;z-index: 1;}#sk-container-id-2 div.sk-parallel {display: flex;align-items: stretch;justify-content: center;background-color: white;position: relative;}#sk-container-id-2 div.sk-item::before, #sk-container-id-2 div.sk-parallel-item::before {content: \"\";position: absolute;border-left: 1px solid gray;box-sizing: border-box;top: 0;bottom: 0;left: 50%;z-index: -1;}#sk-container-id-2 div.sk-parallel-item {display: flex;flex-direction: column;z-index: 1;position: relative;background-color: white;}#sk-container-id-2 div.sk-parallel-item:first-child::after {align-self: flex-end;width: 50%;}#sk-container-id-2 div.sk-parallel-item:last-child::after {align-self: flex-start;width: 50%;}#sk-container-id-2 div.sk-parallel-item:only-child::after {width: 0;}#sk-container-id-2 div.sk-dashed-wrapped {border: 1px dashed gray;margin: 0 0.4em 0.5em 0.4em;box-sizing: border-box;padding-bottom: 0.4em;background-color: white;}#sk-container-id-2 div.sk-label label {font-family: monospace;font-weight: bold;display: inline-block;line-height: 1.2em;}#sk-container-id-2 div.sk-label-container {text-align: center;}#sk-container-id-2 div.sk-container {/* jupyter's `normalize.less` sets `[hidden] { display: none; }` but bootstrap.min.css set `[hidden] { display: none !important; }` so we also need the `!important` here to be able to override the default hidden behavior on the sphinx rendered scikit-learn.org. See: https://github.com/scikit-learn/scikit-learn/issues/21755 */display: inline-block !important;position: relative;}#sk-container-id-2 div.sk-text-repr-fallback {display: none;}</style><div id=\"sk-container-id-2\" class=\"sk-top-container\"><div class=\"sk-text-repr-fallback\"><pre>GridSearchCV(cv=3,\n",
       "             estimator=Pipeline(steps=[(&#x27;tfidf&#x27;, TfidfVectorizer()),\n",
       "                                       (&#x27;clf&#x27;,\n",
       "                                        LinearSVC(class_weight=&#x27;balanced&#x27;))]),\n",
       "             n_jobs=-1,\n",
       "             param_grid={&#x27;clf__C&#x27;: [0.1, 1, 10],\n",
       "                         &#x27;tfidf__max_features&#x27;: [500, 1000, 10000],\n",
       "                         &#x27;tfidf__ngram_range&#x27;: [(1, 1), (1, 2)]},\n",
       "             scoring=&#x27;f1_macro&#x27;, verbose=5)</pre><b>In a Jupyter environment, please rerun this cell to show the HTML representation or trust the notebook. <br />On GitHub, the HTML representation is unable to render, please try loading this page with nbviewer.org.</b></div><div class=\"sk-container\" hidden><div class=\"sk-item sk-dashed-wrapped\"><div class=\"sk-label-container\"><div class=\"sk-label sk-toggleable\"><input class=\"sk-toggleable__control sk-hidden--visually\" id=\"sk-estimator-id-6\" type=\"checkbox\" ><label for=\"sk-estimator-id-6\" class=\"sk-toggleable__label sk-toggleable__label-arrow\">GridSearchCV</label><div class=\"sk-toggleable__content\"><pre>GridSearchCV(cv=3,\n",
       "             estimator=Pipeline(steps=[(&#x27;tfidf&#x27;, TfidfVectorizer()),\n",
       "                                       (&#x27;clf&#x27;,\n",
       "                                        LinearSVC(class_weight=&#x27;balanced&#x27;))]),\n",
       "             n_jobs=-1,\n",
       "             param_grid={&#x27;clf__C&#x27;: [0.1, 1, 10],\n",
       "                         &#x27;tfidf__max_features&#x27;: [500, 1000, 10000],\n",
       "                         &#x27;tfidf__ngram_range&#x27;: [(1, 1), (1, 2)]},\n",
       "             scoring=&#x27;f1_macro&#x27;, verbose=5)</pre></div></div></div><div class=\"sk-parallel\"><div class=\"sk-parallel-item\"><div class=\"sk-item\"><div class=\"sk-label-container\"><div class=\"sk-label sk-toggleable\"><input class=\"sk-toggleable__control sk-hidden--visually\" id=\"sk-estimator-id-7\" type=\"checkbox\" ><label for=\"sk-estimator-id-7\" class=\"sk-toggleable__label sk-toggleable__label-arrow\">estimator: Pipeline</label><div class=\"sk-toggleable__content\"><pre>Pipeline(steps=[(&#x27;tfidf&#x27;, TfidfVectorizer()),\n",
       "                (&#x27;clf&#x27;, LinearSVC(class_weight=&#x27;balanced&#x27;))])</pre></div></div></div><div class=\"sk-serial\"><div class=\"sk-item\"><div class=\"sk-serial\"><div class=\"sk-item\"><div class=\"sk-estimator sk-toggleable\"><input class=\"sk-toggleable__control sk-hidden--visually\" id=\"sk-estimator-id-8\" type=\"checkbox\" ><label for=\"sk-estimator-id-8\" class=\"sk-toggleable__label sk-toggleable__label-arrow\">TfidfVectorizer</label><div class=\"sk-toggleable__content\"><pre>TfidfVectorizer()</pre></div></div></div><div class=\"sk-item\"><div class=\"sk-estimator sk-toggleable\"><input class=\"sk-toggleable__control sk-hidden--visually\" id=\"sk-estimator-id-9\" type=\"checkbox\" ><label for=\"sk-estimator-id-9\" class=\"sk-toggleable__label sk-toggleable__label-arrow\">LinearSVC</label><div class=\"sk-toggleable__content\"><pre>LinearSVC(class_weight=&#x27;balanced&#x27;)</pre></div></div></div></div></div></div></div></div></div></div></div></div>"
      ],
      "text/plain": [
       "GridSearchCV(cv=3,\n",
       "             estimator=Pipeline(steps=[('tfidf', TfidfVectorizer()),\n",
       "                                       ('clf',\n",
       "                                        LinearSVC(class_weight='balanced'))]),\n",
       "             n_jobs=-1,\n",
       "             param_grid={'clf__C': [0.1, 1, 10],\n",
       "                         'tfidf__max_features': [500, 1000, 10000],\n",
       "                         'tfidf__ngram_range': [(1, 1), (1, 2)]},\n",
       "             scoring='f1_macro', verbose=5)"
      ]
     },
     "execution_count": 33,
     "metadata": {},
     "output_type": "execute_result"
    },
    {
     "name": "stdout",
     "output_type": "stream",
     "text": [
      "[CV 1/3] END clf__C=0.1, tfidf__max_features=500, tfidf__ngram_range=(1, 1);, score=0.089 total time=  30.5s\n",
      "[CV 2/3] END clf__C=0.1, tfidf__max_features=500, tfidf__ngram_range=(1, 2);, score=0.083 total time=  31.5s\n",
      "[CV 1/3] END clf__C=0.1, tfidf__max_features=1000, tfidf__ngram_range=(1, 2);, score=0.152 total time=  32.1s\n",
      "[CV 2/3] END clf__C=0.1, tfidf__max_features=10000, tfidf__ngram_range=(1, 1);, score=0.323 total time=  35.9s\n",
      "[CV 3/3] END clf__C=0.1, tfidf__max_features=10000, tfidf__ngram_range=(1, 2);, score=0.325 total time=  42.6s\n",
      "[CV 1/3] END clf__C=1, tfidf__max_features=500, tfidf__ngram_range=(1, 2);, score=0.102 total time= 1.4min\n",
      "[CV 2/3] END clf__C=1, tfidf__max_features=1000, tfidf__ngram_range=(1, 1);, score=0.180 total time= 1.0min\n",
      "[CV 3/3] END clf__C=1, tfidf__max_features=1000, tfidf__ngram_range=(1, 2);, score=0.173 total time= 1.1min\n",
      "[CV 1/3] END clf__C=1, tfidf__max_features=10000, tfidf__ngram_range=(1, 2);, score=0.333 total time=  51.3s\n",
      "[CV 2/3] END clf__C=10, tfidf__max_features=500, tfidf__ngram_range=(1, 1);, score=0.106 total time=10.1min\n",
      "[CV 3/3] END clf__C=10, tfidf__max_features=500, tfidf__ngram_range=(1, 2);, score=0.101 total time=10.3min\n",
      "[CV 3/3] END clf__C=10, tfidf__max_features=1000, tfidf__ngram_range=(1, 2);, score=0.173 total time= 8.1min\n"
     ]
    },
    {
     "name": "stderr",
     "output_type": "stream",
     "text": [
      "/opt/anaconda3/envs/adthena/lib/python3.8/site-packages/sklearn/svm/_base.py:1244: ConvergenceWarning: Liblinear failed to converge, increase the number of iterations.\n",
      "  warnings.warn(\n",
      "/opt/anaconda3/envs/adthena/lib/python3.8/site-packages/sklearn/svm/_base.py:1244: ConvergenceWarning: Liblinear failed to converge, increase the number of iterations.\n",
      "  warnings.warn(\n",
      "/opt/anaconda3/envs/adthena/lib/python3.8/site-packages/sklearn/svm/_base.py:1244: ConvergenceWarning: Liblinear failed to converge, increase the number of iterations.\n",
      "  warnings.warn(\n"
     ]
    },
    {
     "name": "stdout",
     "output_type": "stream",
     "text": [
      "[CV 3/3] END clf__C=0.1, tfidf__max_features=500, tfidf__ngram_range=(1, 1);, score=0.085 total time=  30.9s\n",
      "[CV 3/3] END clf__C=0.1, tfidf__max_features=500, tfidf__ngram_range=(1, 2);, score=0.082 total time=  31.6s\n",
      "[CV 3/3] END clf__C=0.1, tfidf__max_features=1000, tfidf__ngram_range=(1, 2);, score=0.153 total time=  32.5s\n",
      "[CV 1/3] END clf__C=0.1, tfidf__max_features=10000, tfidf__ngram_range=(1, 2);, score=0.324 total time=  43.1s\n",
      "[CV 2/3] END clf__C=1, tfidf__max_features=500, tfidf__ngram_range=(1, 1);, score=0.104 total time= 1.4min\n",
      "[CV 3/3] END clf__C=1, tfidf__max_features=500, tfidf__ngram_range=(1, 2);, score=0.100 total time= 1.4min\n",
      "[CV 1/3] END clf__C=1, tfidf__max_features=1000, tfidf__ngram_range=(1, 2);, score=0.177 total time= 1.1min\n",
      "[CV 2/3] END clf__C=1, tfidf__max_features=10000, tfidf__ngram_range=(1, 1);, score=0.350 total time=  36.8s\n",
      "[CV 3/3] END clf__C=1, tfidf__max_features=10000, tfidf__ngram_range=(1, 2);, score=0.336 total time=  50.4s\n",
      "[CV 1/3] END clf__C=10, tfidf__max_features=500, tfidf__ngram_range=(1, 2);, score=0.104 total time=10.3min\n",
      "[CV 2/3] END clf__C=10, tfidf__max_features=1000, tfidf__ngram_range=(1, 1);, score=0.183 total time= 7.7min\n",
      "[CV 1/3] END clf__C=10, tfidf__max_features=1000, tfidf__ngram_range=(1, 2);, score=0.173 total time= 7.9min\n",
      "[CV 2/3] END clf__C=10, tfidf__max_features=10000, tfidf__ngram_range=(1, 1);, score=0.326 total time= 1.7min\n",
      "[CV 1/3] END clf__C=10, tfidf__max_features=10000, tfidf__ngram_range=(1, 2);, score=0.300 total time= 3.4min\n"
     ]
    },
    {
     "name": "stderr",
     "output_type": "stream",
     "text": [
      "/opt/anaconda3/envs/adthena/lib/python3.8/site-packages/sklearn/svm/_base.py:1244: ConvergenceWarning: Liblinear failed to converge, increase the number of iterations.\n",
      "  warnings.warn(\n",
      "/opt/anaconda3/envs/adthena/lib/python3.8/site-packages/sklearn/svm/_base.py:1244: ConvergenceWarning: Liblinear failed to converge, increase the number of iterations.\n",
      "  warnings.warn(\n",
      "/opt/anaconda3/envs/adthena/lib/python3.8/site-packages/sklearn/svm/_base.py:1244: ConvergenceWarning: Liblinear failed to converge, increase the number of iterations.\n",
      "  warnings.warn(\n",
      "/opt/anaconda3/envs/adthena/lib/python3.8/site-packages/sklearn/svm/_base.py:1244: ConvergenceWarning: Liblinear failed to converge, increase the number of iterations.\n",
      "  warnings.warn(\n",
      "/opt/anaconda3/envs/adthena/lib/python3.8/site-packages/sklearn/svm/_base.py:1244: ConvergenceWarning: Liblinear failed to converge, increase the number of iterations.\n",
      "  warnings.warn(\n"
     ]
    },
    {
     "name": "stdout",
     "output_type": "stream",
     "text": [
      "[CV 1/3] END clf__C=0.1, tfidf__max_features=500, tfidf__ngram_range=(1, 2);, score=0.085 total time=  31.3s\n",
      "[CV 2/3] END clf__C=0.1, tfidf__max_features=1000, tfidf__ngram_range=(1, 1);, score=0.158 total time=  31.0s\n",
      "[CV 2/3] END clf__C=0.1, tfidf__max_features=1000, tfidf__ngram_range=(1, 2);, score=0.151 total time=  32.3s\n",
      "[CV 3/3] END clf__C=0.1, tfidf__max_features=10000, tfidf__ngram_range=(1, 1);, score=0.326 total time=  35.6s\n",
      "[CV 1/3] END clf__C=1, tfidf__max_features=500, tfidf__ngram_range=(1, 1);, score=0.104 total time= 1.4min\n",
      "[CV 2/3] END clf__C=1, tfidf__max_features=500, tfidf__ngram_range=(1, 2);, score=0.100 total time= 1.4min\n",
      "[CV 3/3] END clf__C=1, tfidf__max_features=1000, tfidf__ngram_range=(1, 1);, score=0.179 total time= 1.1min\n",
      "[CV 1/3] END clf__C=1, tfidf__max_features=10000, tfidf__ngram_range=(1, 1);, score=0.353 total time=  35.1s\n",
      "[CV 2/3] END clf__C=1, tfidf__max_features=10000, tfidf__ngram_range=(1, 2);, score=0.335 total time=  51.6s\n",
      "[CV 3/3] END clf__C=10, tfidf__max_features=500, tfidf__ngram_range=(1, 1);, score=0.106 total time=10.1min\n",
      "[CV 1/3] END clf__C=10, tfidf__max_features=1000, tfidf__ngram_range=(1, 1);, score=0.182 total time= 7.4min\n",
      "[CV 3/3] END clf__C=10, tfidf__max_features=1000, tfidf__ngram_range=(1, 1);, score=0.178 total time= 7.6min\n",
      "[CV 1/3] END clf__C=10, tfidf__max_features=10000, tfidf__ngram_range=(1, 1);, score=0.326 total time= 1.6min\n",
      "[CV 3/3] END clf__C=10, tfidf__max_features=10000, tfidf__ngram_range=(1, 1);, score=0.326 total time= 1.5min\n",
      "[CV 3/3] END clf__C=10, tfidf__max_features=10000, tfidf__ngram_range=(1, 2);, score=0.300 total time= 3.1min\n",
      "[CV 2/3] END clf__C=0.1, tfidf__max_features=500, tfidf__ngram_range=(1, 1);, score=0.087 total time=  31.0s\n",
      "[CV 1/3] END clf__C=0.1, tfidf__max_features=1000, tfidf__ngram_range=(1, 1);, score=0.156 total time=  30.4s\n",
      "[CV 3/3] END clf__C=0.1, tfidf__max_features=1000, tfidf__ngram_range=(1, 1);, score=0.157 total time=  31.1s\n",
      "[CV 1/3] END clf__C=0.1, tfidf__max_features=10000, tfidf__ngram_range=(1, 1);, score=0.325 total time=  35.3s\n",
      "[CV 2/3] END clf__C=0.1, tfidf__max_features=10000, tfidf__ngram_range=(1, 2);, score=0.321 total time=  41.8s\n",
      "[CV 3/3] END clf__C=1, tfidf__max_features=500, tfidf__ngram_range=(1, 1);, score=0.104 total time= 1.4min\n",
      "[CV 1/3] END clf__C=1, tfidf__max_features=1000, tfidf__ngram_range=(1, 1);, score=0.182 total time= 1.0min\n",
      "[CV 2/3] END clf__C=1, tfidf__max_features=1000, tfidf__ngram_range=(1, 2);, score=0.171 total time= 1.1min\n",
      "[CV 3/3] END clf__C=1, tfidf__max_features=10000, tfidf__ngram_range=(1, 1);, score=0.350 total time=  35.7s\n",
      "[CV 1/3] END clf__C=10, tfidf__max_features=500, tfidf__ngram_range=(1, 1);, score=0.108 total time=10.1min\n",
      "[CV 2/3] END clf__C=10, tfidf__max_features=500, tfidf__ngram_range=(1, 2);, score=0.101 total time=10.4min\n",
      "[CV 2/3] END clf__C=10, tfidf__max_features=1000, tfidf__ngram_range=(1, 2);, score=0.174 total time= 8.1min\n",
      "[CV 2/3] END clf__C=10, tfidf__max_features=10000, tfidf__ngram_range=(1, 2);, score=0.304 total time= 3.1min\n"
     ]
    },
    {
     "name": "stderr",
     "output_type": "stream",
     "text": [
      "/opt/anaconda3/envs/adthena/lib/python3.8/site-packages/sklearn/svm/_base.py:1244: ConvergenceWarning: Liblinear failed to converge, increase the number of iterations.\n",
      "  warnings.warn(\n",
      "/opt/anaconda3/envs/adthena/lib/python3.8/site-packages/sklearn/svm/_base.py:1244: ConvergenceWarning: Liblinear failed to converge, increase the number of iterations.\n",
      "  warnings.warn(\n",
      "/opt/anaconda3/envs/adthena/lib/python3.8/site-packages/sklearn/svm/_base.py:1244: ConvergenceWarning: Liblinear failed to converge, increase the number of iterations.\n",
      "  warnings.warn(\n",
      "/opt/anaconda3/envs/adthena/lib/python3.8/site-packages/sklearn/svm/_base.py:1244: ConvergenceWarning: Liblinear failed to converge, increase the number of iterations.\n",
      "  warnings.warn(\n",
      "/opt/anaconda3/envs/adthena/lib/python3.8/site-packages/sklearn/svm/_base.py:1244: ConvergenceWarning: Liblinear failed to converge, increase the number of iterations.\n",
      "  warnings.warn(\n",
      "/opt/anaconda3/envs/adthena/lib/python3.8/site-packages/sklearn/svm/_base.py:1244: ConvergenceWarning: Liblinear failed to converge, increase the number of iterations.\n",
      "  warnings.warn(\n",
      "/opt/anaconda3/envs/adthena/lib/python3.8/site-packages/sklearn/svm/_base.py:1244: ConvergenceWarning: Liblinear failed to converge, increase the number of iterations.\n",
      "  warnings.warn(\n",
      "/opt/anaconda3/envs/adthena/lib/python3.8/site-packages/sklearn/svm/_base.py:1244: ConvergenceWarning: Liblinear failed to converge, increase the number of iterations.\n",
      "  warnings.warn(\n",
      "/opt/anaconda3/envs/adthena/lib/python3.8/site-packages/sklearn/svm/_base.py:1244: ConvergenceWarning: Liblinear failed to converge, increase the number of iterations.\n",
      "  warnings.warn(\n",
      "/opt/anaconda3/envs/adthena/lib/python3.8/site-packages/sklearn/svm/_base.py:1244: ConvergenceWarning: Liblinear failed to converge, increase the number of iterations.\n",
      "  warnings.warn(\n"
     ]
    }
   ],
   "source": [
    "# Perform grid search to find the best hyperparameters\n",
    "grid_search = GridSearchCV(pipeline, parameters, scoring='f1_macro', cv=3, n_jobs=-1, verbose = 5)\n",
    "grid_search.fit(data_sample[0], data_sample[1])"
   ]
  },
  {
   "cell_type": "code",
   "execution_count": 36,
   "id": "6cee81a1",
   "metadata": {},
   "outputs": [],
   "source": [
    "grid_search.best_params_\n",
    "best_params = {'clf__C': 1, 'tfidf__max_features': 10000, 'tfidf__ngram_range': (1, 1)}\n",
    "\n",
    "# train the best model again\n",
    "best_pipeline = Pipeline([\n",
    "    ('tfidf', TfidfVectorizer(max_df=best_params['tfidf__max_features'], ngram_range=best_params['tfidf__ngram_range'])),\n",
    "    ('clf', LinearSVC(C=best_params['clf__C'], class_weight ='balanced'))\n",
    "])"
   ]
  },
  {
   "cell_type": "code",
   "execution_count": 37,
   "id": "bcd8255e",
   "metadata": {},
   "outputs": [],
   "source": [
    "train, test = train_test_split(data, test_size=0.2, random_state=42)"
   ]
  },
  {
   "cell_type": "code",
   "execution_count": 38,
   "id": "7ecb0567",
   "metadata": {},
   "outputs": [
    {
     "data": {
      "text/html": [
       "<style>#sk-container-id-3 {color: black;background-color: white;}#sk-container-id-3 pre{padding: 0;}#sk-container-id-3 div.sk-toggleable {background-color: white;}#sk-container-id-3 label.sk-toggleable__label {cursor: pointer;display: block;width: 100%;margin-bottom: 0;padding: 0.3em;box-sizing: border-box;text-align: center;}#sk-container-id-3 label.sk-toggleable__label-arrow:before {content: \"▸\";float: left;margin-right: 0.25em;color: #696969;}#sk-container-id-3 label.sk-toggleable__label-arrow:hover:before {color: black;}#sk-container-id-3 div.sk-estimator:hover label.sk-toggleable__label-arrow:before {color: black;}#sk-container-id-3 div.sk-toggleable__content {max-height: 0;max-width: 0;overflow: hidden;text-align: left;background-color: #f0f8ff;}#sk-container-id-3 div.sk-toggleable__content pre {margin: 0.2em;color: black;border-radius: 0.25em;background-color: #f0f8ff;}#sk-container-id-3 input.sk-toggleable__control:checked~div.sk-toggleable__content {max-height: 200px;max-width: 100%;overflow: auto;}#sk-container-id-3 input.sk-toggleable__control:checked~label.sk-toggleable__label-arrow:before {content: \"▾\";}#sk-container-id-3 div.sk-estimator input.sk-toggleable__control:checked~label.sk-toggleable__label {background-color: #d4ebff;}#sk-container-id-3 div.sk-label input.sk-toggleable__control:checked~label.sk-toggleable__label {background-color: #d4ebff;}#sk-container-id-3 input.sk-hidden--visually {border: 0;clip: rect(1px 1px 1px 1px);clip: rect(1px, 1px, 1px, 1px);height: 1px;margin: -1px;overflow: hidden;padding: 0;position: absolute;width: 1px;}#sk-container-id-3 div.sk-estimator {font-family: monospace;background-color: #f0f8ff;border: 1px dotted black;border-radius: 0.25em;box-sizing: border-box;margin-bottom: 0.5em;}#sk-container-id-3 div.sk-estimator:hover {background-color: #d4ebff;}#sk-container-id-3 div.sk-parallel-item::after {content: \"\";width: 100%;border-bottom: 1px solid gray;flex-grow: 1;}#sk-container-id-3 div.sk-label:hover label.sk-toggleable__label {background-color: #d4ebff;}#sk-container-id-3 div.sk-serial::before {content: \"\";position: absolute;border-left: 1px solid gray;box-sizing: border-box;top: 0;bottom: 0;left: 50%;z-index: 0;}#sk-container-id-3 div.sk-serial {display: flex;flex-direction: column;align-items: center;background-color: white;padding-right: 0.2em;padding-left: 0.2em;position: relative;}#sk-container-id-3 div.sk-item {position: relative;z-index: 1;}#sk-container-id-3 div.sk-parallel {display: flex;align-items: stretch;justify-content: center;background-color: white;position: relative;}#sk-container-id-3 div.sk-item::before, #sk-container-id-3 div.sk-parallel-item::before {content: \"\";position: absolute;border-left: 1px solid gray;box-sizing: border-box;top: 0;bottom: 0;left: 50%;z-index: -1;}#sk-container-id-3 div.sk-parallel-item {display: flex;flex-direction: column;z-index: 1;position: relative;background-color: white;}#sk-container-id-3 div.sk-parallel-item:first-child::after {align-self: flex-end;width: 50%;}#sk-container-id-3 div.sk-parallel-item:last-child::after {align-self: flex-start;width: 50%;}#sk-container-id-3 div.sk-parallel-item:only-child::after {width: 0;}#sk-container-id-3 div.sk-dashed-wrapped {border: 1px dashed gray;margin: 0 0.4em 0.5em 0.4em;box-sizing: border-box;padding-bottom: 0.4em;background-color: white;}#sk-container-id-3 div.sk-label label {font-family: monospace;font-weight: bold;display: inline-block;line-height: 1.2em;}#sk-container-id-3 div.sk-label-container {text-align: center;}#sk-container-id-3 div.sk-container {/* jupyter's `normalize.less` sets `[hidden] { display: none; }` but bootstrap.min.css set `[hidden] { display: none !important; }` so we also need the `!important` here to be able to override the default hidden behavior on the sphinx rendered scikit-learn.org. See: https://github.com/scikit-learn/scikit-learn/issues/21755 */display: inline-block !important;position: relative;}#sk-container-id-3 div.sk-text-repr-fallback {display: none;}</style><div id=\"sk-container-id-3\" class=\"sk-top-container\"><div class=\"sk-text-repr-fallback\"><pre>Pipeline(steps=[(&#x27;tfidf&#x27;, TfidfVectorizer(max_df=10000)),\n",
       "                (&#x27;clf&#x27;, LinearSVC(C=1, class_weight=&#x27;balanced&#x27;))])</pre><b>In a Jupyter environment, please rerun this cell to show the HTML representation or trust the notebook. <br />On GitHub, the HTML representation is unable to render, please try loading this page with nbviewer.org.</b></div><div class=\"sk-container\" hidden><div class=\"sk-item sk-dashed-wrapped\"><div class=\"sk-label-container\"><div class=\"sk-label sk-toggleable\"><input class=\"sk-toggleable__control sk-hidden--visually\" id=\"sk-estimator-id-10\" type=\"checkbox\" ><label for=\"sk-estimator-id-10\" class=\"sk-toggleable__label sk-toggleable__label-arrow\">Pipeline</label><div class=\"sk-toggleable__content\"><pre>Pipeline(steps=[(&#x27;tfidf&#x27;, TfidfVectorizer(max_df=10000)),\n",
       "                (&#x27;clf&#x27;, LinearSVC(C=1, class_weight=&#x27;balanced&#x27;))])</pre></div></div></div><div class=\"sk-serial\"><div class=\"sk-item\"><div class=\"sk-estimator sk-toggleable\"><input class=\"sk-toggleable__control sk-hidden--visually\" id=\"sk-estimator-id-11\" type=\"checkbox\" ><label for=\"sk-estimator-id-11\" class=\"sk-toggleable__label sk-toggleable__label-arrow\">TfidfVectorizer</label><div class=\"sk-toggleable__content\"><pre>TfidfVectorizer(max_df=10000)</pre></div></div></div><div class=\"sk-item\"><div class=\"sk-estimator sk-toggleable\"><input class=\"sk-toggleable__control sk-hidden--visually\" id=\"sk-estimator-id-12\" type=\"checkbox\" ><label for=\"sk-estimator-id-12\" class=\"sk-toggleable__label sk-toggleable__label-arrow\">LinearSVC</label><div class=\"sk-toggleable__content\"><pre>LinearSVC(C=1, class_weight=&#x27;balanced&#x27;)</pre></div></div></div></div></div></div></div>"
      ],
      "text/plain": [
       "Pipeline(steps=[('tfidf', TfidfVectorizer(max_df=10000)),\n",
       "                ('clf', LinearSVC(C=1, class_weight='balanced'))])"
      ]
     },
     "execution_count": 38,
     "metadata": {},
     "output_type": "execute_result"
    }
   ],
   "source": [
    "best_pipeline.fit(train[0], train[1])"
   ]
  },
  {
   "cell_type": "code",
   "execution_count": 40,
   "id": "a5b4c94d",
   "metadata": {},
   "outputs": [],
   "source": [
    "test['predicted_intents'] = best_pipeline.predict(test[0])"
   ]
  },
  {
   "cell_type": "code",
   "execution_count": 43,
   "id": "e57221d6",
   "metadata": {},
   "outputs": [
    {
     "data": {
      "text/plain": [
       "(0.6203885524436544, 0.6277262802290611, 0.6200204800988347, None)"
      ]
     },
     "execution_count": 43,
     "metadata": {},
     "output_type": "execute_result"
    }
   ],
   "source": [
    "precision_recall_fscore_support(test[1] , test['predicted_intents'] , average='weighted')"
   ]
  },
  {
   "cell_type": "code",
   "execution_count": 52,
   "id": "bb9efe4e",
   "metadata": {},
   "outputs": [
    {
     "data": {
      "text/plain": [
       "121365"
      ]
     },
     "execution_count": 52,
     "metadata": {},
     "output_type": "execute_result"
    }
   ],
   "source": [
    "len(test)"
   ]
  },
  {
   "cell_type": "code",
   "execution_count": 53,
   "id": "7c7d568c",
   "metadata": {},
   "outputs": [
    {
     "data": {
      "text/html": [
       "<style>#sk-container-id-4 {color: black;background-color: white;}#sk-container-id-4 pre{padding: 0;}#sk-container-id-4 div.sk-toggleable {background-color: white;}#sk-container-id-4 label.sk-toggleable__label {cursor: pointer;display: block;width: 100%;margin-bottom: 0;padding: 0.3em;box-sizing: border-box;text-align: center;}#sk-container-id-4 label.sk-toggleable__label-arrow:before {content: \"▸\";float: left;margin-right: 0.25em;color: #696969;}#sk-container-id-4 label.sk-toggleable__label-arrow:hover:before {color: black;}#sk-container-id-4 div.sk-estimator:hover label.sk-toggleable__label-arrow:before {color: black;}#sk-container-id-4 div.sk-toggleable__content {max-height: 0;max-width: 0;overflow: hidden;text-align: left;background-color: #f0f8ff;}#sk-container-id-4 div.sk-toggleable__content pre {margin: 0.2em;color: black;border-radius: 0.25em;background-color: #f0f8ff;}#sk-container-id-4 input.sk-toggleable__control:checked~div.sk-toggleable__content {max-height: 200px;max-width: 100%;overflow: auto;}#sk-container-id-4 input.sk-toggleable__control:checked~label.sk-toggleable__label-arrow:before {content: \"▾\";}#sk-container-id-4 div.sk-estimator input.sk-toggleable__control:checked~label.sk-toggleable__label {background-color: #d4ebff;}#sk-container-id-4 div.sk-label input.sk-toggleable__control:checked~label.sk-toggleable__label {background-color: #d4ebff;}#sk-container-id-4 input.sk-hidden--visually {border: 0;clip: rect(1px 1px 1px 1px);clip: rect(1px, 1px, 1px, 1px);height: 1px;margin: -1px;overflow: hidden;padding: 0;position: absolute;width: 1px;}#sk-container-id-4 div.sk-estimator {font-family: monospace;background-color: #f0f8ff;border: 1px dotted black;border-radius: 0.25em;box-sizing: border-box;margin-bottom: 0.5em;}#sk-container-id-4 div.sk-estimator:hover {background-color: #d4ebff;}#sk-container-id-4 div.sk-parallel-item::after {content: \"\";width: 100%;border-bottom: 1px solid gray;flex-grow: 1;}#sk-container-id-4 div.sk-label:hover label.sk-toggleable__label {background-color: #d4ebff;}#sk-container-id-4 div.sk-serial::before {content: \"\";position: absolute;border-left: 1px solid gray;box-sizing: border-box;top: 0;bottom: 0;left: 50%;z-index: 0;}#sk-container-id-4 div.sk-serial {display: flex;flex-direction: column;align-items: center;background-color: white;padding-right: 0.2em;padding-left: 0.2em;position: relative;}#sk-container-id-4 div.sk-item {position: relative;z-index: 1;}#sk-container-id-4 div.sk-parallel {display: flex;align-items: stretch;justify-content: center;background-color: white;position: relative;}#sk-container-id-4 div.sk-item::before, #sk-container-id-4 div.sk-parallel-item::before {content: \"\";position: absolute;border-left: 1px solid gray;box-sizing: border-box;top: 0;bottom: 0;left: 50%;z-index: -1;}#sk-container-id-4 div.sk-parallel-item {display: flex;flex-direction: column;z-index: 1;position: relative;background-color: white;}#sk-container-id-4 div.sk-parallel-item:first-child::after {align-self: flex-end;width: 50%;}#sk-container-id-4 div.sk-parallel-item:last-child::after {align-self: flex-start;width: 50%;}#sk-container-id-4 div.sk-parallel-item:only-child::after {width: 0;}#sk-container-id-4 div.sk-dashed-wrapped {border: 1px dashed gray;margin: 0 0.4em 0.5em 0.4em;box-sizing: border-box;padding-bottom: 0.4em;background-color: white;}#sk-container-id-4 div.sk-label label {font-family: monospace;font-weight: bold;display: inline-block;line-height: 1.2em;}#sk-container-id-4 div.sk-label-container {text-align: center;}#sk-container-id-4 div.sk-container {/* jupyter's `normalize.less` sets `[hidden] { display: none; }` but bootstrap.min.css set `[hidden] { display: none !important; }` so we also need the `!important` here to be able to override the default hidden behavior on the sphinx rendered scikit-learn.org. See: https://github.com/scikit-learn/scikit-learn/issues/21755 */display: inline-block !important;position: relative;}#sk-container-id-4 div.sk-text-repr-fallback {display: none;}</style><div id=\"sk-container-id-4\" class=\"sk-top-container\"><div class=\"sk-text-repr-fallback\"><pre>Pipeline(steps=[(&#x27;tfidf&#x27;, TfidfVectorizer(max_df=10000)),\n",
       "                (&#x27;clf&#x27;, LinearSVC(C=1, class_weight=&#x27;balanced&#x27;))])</pre><b>In a Jupyter environment, please rerun this cell to show the HTML representation or trust the notebook. <br />On GitHub, the HTML representation is unable to render, please try loading this page with nbviewer.org.</b></div><div class=\"sk-container\" hidden><div class=\"sk-item sk-dashed-wrapped\"><div class=\"sk-label-container\"><div class=\"sk-label sk-toggleable\"><input class=\"sk-toggleable__control sk-hidden--visually\" id=\"sk-estimator-id-13\" type=\"checkbox\" ><label for=\"sk-estimator-id-13\" class=\"sk-toggleable__label sk-toggleable__label-arrow\">Pipeline</label><div class=\"sk-toggleable__content\"><pre>Pipeline(steps=[(&#x27;tfidf&#x27;, TfidfVectorizer(max_df=10000)),\n",
       "                (&#x27;clf&#x27;, LinearSVC(C=1, class_weight=&#x27;balanced&#x27;))])</pre></div></div></div><div class=\"sk-serial\"><div class=\"sk-item\"><div class=\"sk-estimator sk-toggleable\"><input class=\"sk-toggleable__control sk-hidden--visually\" id=\"sk-estimator-id-14\" type=\"checkbox\" ><label for=\"sk-estimator-id-14\" class=\"sk-toggleable__label sk-toggleable__label-arrow\">TfidfVectorizer</label><div class=\"sk-toggleable__content\"><pre>TfidfVectorizer(max_df=10000)</pre></div></div></div><div class=\"sk-item\"><div class=\"sk-estimator sk-toggleable\"><input class=\"sk-toggleable__control sk-hidden--visually\" id=\"sk-estimator-id-15\" type=\"checkbox\" ><label for=\"sk-estimator-id-15\" class=\"sk-toggleable__label sk-toggleable__label-arrow\">LinearSVC</label><div class=\"sk-toggleable__content\"><pre>LinearSVC(C=1, class_weight=&#x27;balanced&#x27;)</pre></div></div></div></div></div></div></div>"
      ],
      "text/plain": [
       "Pipeline(steps=[('tfidf', TfidfVectorizer(max_df=10000)),\n",
       "                ('clf', LinearSVC(C=1, class_weight='balanced'))])"
      ]
     },
     "execution_count": 53,
     "metadata": {},
     "output_type": "execute_result"
    }
   ],
   "source": [
    "best_params = {'clf__C': 1, 'tfidf__max_features': 10000, 'tfidf__ngram_range': (1, 1)}\n",
    "\n",
    "# train the best model again\n",
    "final_best_pipeline = Pipeline([\n",
    "    ('tfidf', TfidfVectorizer(max_df=best_params['tfidf__max_features'], ngram_range=best_params['tfidf__ngram_range'])),\n",
    "    ('clf', LinearSVC(C=best_params['clf__C'], class_weight ='balanced'))\n",
    "])\n",
    "\n",
    "final_best_pipeline.fit(data[0], data[1])"
   ]
  },
  {
   "cell_type": "code",
   "execution_count": 58,
   "id": "452a1c3e",
   "metadata": {},
   "outputs": [],
   "source": [
    "validation_data = pd.read_csv(\"../data/test_data.csv\", header=None)"
   ]
  },
  {
   "cell_type": "code",
   "execution_count": 59,
   "id": "c57d1a65",
   "metadata": {},
   "outputs": [
    {
     "data": {
      "text/html": [
       "<div>\n",
       "<style scoped>\n",
       "    .dataframe tbody tr th:only-of-type {\n",
       "        vertical-align: middle;\n",
       "    }\n",
       "\n",
       "    .dataframe tbody tr th {\n",
       "        vertical-align: top;\n",
       "    }\n",
       "\n",
       "    .dataframe thead th {\n",
       "        text-align: right;\n",
       "    }\n",
       "</style>\n",
       "<table border=\"1\" class=\"dataframe\">\n",
       "  <thead>\n",
       "    <tr style=\"text-align: right;\">\n",
       "      <th></th>\n",
       "      <th>0</th>\n",
       "    </tr>\n",
       "  </thead>\n",
       "  <tbody>\n",
       "    <tr>\n",
       "      <th>0</th>\n",
       "      <td>twister picnic blanket</td>\n",
       "    </tr>\n",
       "    <tr>\n",
       "      <th>1</th>\n",
       "      <td>best stop smoking app</td>\n",
       "    </tr>\n",
       "    <tr>\n",
       "      <th>2</th>\n",
       "      <td>phosphorus fertiliser</td>\n",
       "    </tr>\n",
       "    <tr>\n",
       "      <th>3</th>\n",
       "      <td>tattoo books</td>\n",
       "    </tr>\n",
       "    <tr>\n",
       "      <th>4</th>\n",
       "      <td>child's desk chair</td>\n",
       "    </tr>\n",
       "  </tbody>\n",
       "</table>\n",
       "</div>"
      ],
      "text/plain": [
       "                        0\n",
       "0  twister picnic blanket\n",
       "1   best stop smoking app\n",
       "2   phosphorus fertiliser\n",
       "3            tattoo books\n",
       "4      child's desk chair"
      ]
     },
     "execution_count": 59,
     "metadata": {},
     "output_type": "execute_result"
    }
   ],
   "source": [
    "validation_data.head()"
   ]
  },
  {
   "cell_type": "code",
   "execution_count": 62,
   "id": "83fe7cde",
   "metadata": {},
   "outputs": [],
   "source": [
    "validation_data['predicted_intents'] = final_best_pipeline.predict(validation_data[0])"
   ]
  },
  {
   "cell_type": "code",
   "execution_count": 63,
   "id": "8a3d5b6e",
   "metadata": {},
   "outputs": [],
   "source": [
    "validation_data.to_csv(\"../output/test_data_inference.csv\")"
   ]
  },
  {
   "cell_type": "code",
   "execution_count": 65,
   "id": "8d26ed32",
   "metadata": {},
   "outputs": [
    {
     "data": {
      "text/plain": [
       "['../models/TfIdfClassifier.joblib']"
      ]
     },
     "execution_count": 65,
     "metadata": {},
     "output_type": "execute_result"
    }
   ],
   "source": [
    "joblib.dump(final_best_pipeline, '../models/TfIdfClassifier.joblib', compress = 1)"
   ]
  },
  {
   "cell_type": "code",
   "execution_count": null,
   "id": "45cf923a",
   "metadata": {},
   "outputs": [],
   "source": []
  }
 ],
 "metadata": {
  "kernelspec": {
   "display_name": "Python 3 (ipykernel)",
   "language": "python",
   "name": "python3"
  },
  "language_info": {
   "codemirror_mode": {
    "name": "ipython",
    "version": 3
   },
   "file_extension": ".py",
   "mimetype": "text/x-python",
   "name": "python",
   "nbconvert_exporter": "python",
   "pygments_lexer": "ipython3",
   "version": "3.8.16"
  }
 },
 "nbformat": 4,
 "nbformat_minor": 5
}
